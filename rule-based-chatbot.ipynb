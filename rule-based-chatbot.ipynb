{
  "nbformat": 4,
  "nbformat_minor": 0,
  "metadata": {
    "colab": {
      "provenance": [],
      "mount_file_id": "1zOiDogMjwqcWYQkXB6g4bNTUCvXQx_Nr",
      "authorship_tag": "ABX9TyNUga1j+20TMA5pMxa933XF",
      "include_colab_link": true
    },
    "kernelspec": {
      "name": "python3",
      "display_name": "Python 3"
    },
    "language_info": {
      "name": "python"
    }
  },
  "cells": [
    {
      "cell_type": "markdown",
      "metadata": {
        "id": "view-in-github",
        "colab_type": "text"
      },
      "source": [
        "<a href=\"https://colab.research.google.com/github/Priya-dhar/CODESOFT-rule-based-chatbot/blob/main/rule-based-chatbot.ipynb\" target=\"_parent\"><img src=\"https://colab.research.google.com/assets/colab-badge.svg\" alt=\"Open In Colab\"/></a>"
      ]
    },
    {
      "cell_type": "code",
      "execution_count": null,
      "metadata": {
        "colab": {
          "base_uri": "https://localhost:8080/"
        },
        "id": "wAnPWOqSOSsA",
        "outputId": "efd8e5f3-0651-47c6-b374-e231b8fc6ed2"
      },
      "outputs": [
        {
          "metadata": {
            "tags": null
          },
          "name": "stdout",
          "output_type": "stream",
          "text": [
            "Hi! I'm ChatBot . Ask me anything \n"
          ]
        }
      ],
      "source": [
        "print(\"Hi! I'm ChatBot . Ask me anything \")\n",
        "while True:\n",
        "  user_input = input(\"You: \"). lower()\n",
        "  if user_input == 'exit':\n",
        "    print(\"ChatBot: Goodbye! Have a great day! \")\n",
        "    break\n",
        "  elif 'hello' in user_input or 'hi' in user_input:\n",
        "    print(\"ChatBot: Hello! How can I help you today?\")\n",
        "  elif \"your name\" in user_input:\n",
        "    print(\"ChatBot: I'm a Rule-Based ChatBot developed by Priyadarsini\")\n",
        "  elif \"how are you\" in user_input:\n",
        "    print(\"Your ChatBot: I'm only a program, but I'm fine! Thanks for asking \")\n",
        "  elif \"what can you do\" in user_input:\n",
        "    print(\"ChatBot: I can chat with you, answer simple questions, and get you started with rule-based logic!\")\n",
        "  elif \"bye\" in user_input:\n",
        "    print(\"ChatBot: Bye! It was nice talking to you.\")\n",
        "  else:\n",
        "    print(\"ChatBot: Sorry, I Failed to understand that. Can you rephrase?\")"
      ]
    }
  ]
}